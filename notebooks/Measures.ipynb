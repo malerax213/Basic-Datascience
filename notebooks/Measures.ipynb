{
 "cells": [
  {
   "cell_type": "code",
   "execution_count": 1,
   "metadata": {},
   "outputs": [],
   "source": [
    "import pandas as pd\n",
    "from pandas.io.json import json_normalize\n",
    "import numpy as np\n",
    "import json"
   ]
  },
  {
   "cell_type": "code",
   "execution_count": 2,
   "metadata": {},
   "outputs": [],
   "source": [
    "HDHT22 = pd.read_csv(\"../data/raw/measures/H-DHT22-measures.csv\")\n",
    "HHTU21 = pd.read_csv(\"../data/raw/measures/H-HTU21-measures.csv\")\n",
    "PBMP280 = pd.read_csv(\"../data/raw/measures/P-BMP280-measures.csv\")\n",
    "TBMP280 = pd.read_csv(\"../data/raw/measures/T-BMP280-measures.csv\")\n",
    "TDHT11 = pd.read_csv(\"../data/raw/measures/T-DHT11-measures.csv\")\n",
    "TDHT22 = pd.read_csv(\"../data/raw/measures/T-DHT22-measures.csv\")\n"
   ]
  },
  {
   "cell_type": "code",
   "execution_count": 3,
   "metadata": {},
   "outputs": [
    {
     "name": "stdout",
     "output_type": "stream",
     "text": [
      "    sensor  value                  time\n",
      "0  H-DHT22   15.7  2017-12-19T14:07:18Z\n",
      "1  H-DHT22   15.7  2017-12-19T14:07:25Z\n",
      "2  H-DHT22   15.7  2017-12-19T14:07:32Z\n",
      "3  H-DHT22   15.7  2017-12-19T14:07:38Z\n",
      "4  H-DHT22   15.7  2017-12-19T14:07:45Z \n",
      "\n",
      "Index(['sensor', 'value', 'time'], dtype='object') \n",
      "\n",
      "sensor    1440160\n",
      "value     1440160\n",
      "time      1440160\n",
      "dtype: int64 \n",
      "\n",
      "<class 'pandas.core.frame.DataFrame'>\n",
      "RangeIndex: 1440160 entries, 0 to 1440159\n",
      "Data columns (total 3 columns):\n",
      "sensor    1440160 non-null object\n",
      "value     1440160 non-null float64\n",
      "time      1440160 non-null object\n",
      "dtypes: float64(1), object(2)\n",
      "memory usage: 33.0+ MB\n",
      "None \n",
      "\n",
      "              value\n",
      "count  1.440160e+06\n",
      "mean   1.001381e+00\n",
      "std    1.991973e-01\n",
      "min    1.000000e+00\n",
      "25%    1.000000e+00\n",
      "50%    1.000000e+00\n",
      "75%    1.000000e+00\n",
      "max    9.990000e+01 \n",
      "\n"
     ]
    }
   ],
   "source": [
    "print (HDHT22.head(),'\\n')\n",
    "print (HDHT22.columns,'\\n')\n",
    "print (HDHT22.count(),'\\n')\n",
    "print (HDHT22.info(),'\\n')\n",
    "print (HDHT22.describe(),'\\n')"
   ]
  },
  {
   "cell_type": "code",
   "execution_count": 4,
   "metadata": {},
   "outputs": [
    {
     "name": "stdout",
     "output_type": "stream",
     "text": [
      "    sensor  value                  time\n",
      "0  H-HTU21   28.3  2017-12-20T12:17:05Z\n",
      "1  H-HTU21   28.2  2017-12-20T12:17:07Z\n",
      "2  H-HTU21   28.1  2017-12-20T12:17:09Z\n",
      "3  H-HTU21   28.2  2017-12-20T12:17:11Z\n",
      "4  H-HTU21   28.2  2017-12-20T12:17:13Z \n",
      "\n",
      "Index(['sensor', 'value', 'time'], dtype='object') \n",
      "\n",
      "sensor    1428377\n",
      "value     1428377\n",
      "time      1428377\n",
      "dtype: int64 \n",
      "\n",
      "<class 'pandas.core.frame.DataFrame'>\n",
      "RangeIndex: 1428377 entries, 0 to 1428376\n",
      "Data columns (total 3 columns):\n",
      "sensor    1428377 non-null object\n",
      "value     1428377 non-null float64\n",
      "time      1428377 non-null object\n",
      "dtypes: float64(1), object(2)\n",
      "memory usage: 32.7+ MB\n",
      "None \n",
      "\n",
      "              value\n",
      "count  1.428377e+06\n",
      "mean   3.434038e+01\n",
      "std    4.954117e+00\n",
      "min    1.970000e+01\n",
      "25%    3.040000e+01\n",
      "50%    3.440000e+01\n",
      "75%    3.730000e+01\n",
      "max    5.630000e+01 \n",
      "\n"
     ]
    }
   ],
   "source": [
    "print (HHTU21.head(),'\\n')\n",
    "print (HHTU21.columns,'\\n')\n",
    "print (HHTU21.count(),'\\n')\n",
    "print (HHTU21.info(),'\\n')\n",
    "print (HHTU21.describe(),'\\n')"
   ]
  },
  {
   "cell_type": "code",
   "execution_count": 5,
   "metadata": {},
   "outputs": [
    {
     "name": "stdout",
     "output_type": "stream",
     "text": [
      "     sensor    value                  time\n",
      "0  P-BMP280  1035.56  2017-12-22T10:52:59Z\n",
      "1  P-BMP280  1035.55  2017-12-22T10:53:02Z\n",
      "2  P-BMP280  1035.54  2017-12-22T10:53:05Z\n",
      "3  P-BMP280  1035.54  2017-12-22T10:53:08Z\n",
      "4  P-BMP280  1035.53  2017-12-22T10:53:11Z \n",
      "\n",
      "Index(['sensor', 'value', 'time'], dtype='object') \n",
      "\n",
      "sensor    1422788\n",
      "value     1422788\n",
      "time      1422788\n",
      "dtype: int64 \n",
      "\n",
      "<class 'pandas.core.frame.DataFrame'>\n",
      "RangeIndex: 1422788 entries, 0 to 1422787\n",
      "Data columns (total 3 columns):\n",
      "sensor    1422788 non-null object\n",
      "value     1422788 non-null float64\n",
      "time      1422788 non-null object\n",
      "dtypes: float64(1), object(2)\n",
      "memory usage: 32.6+ MB\n",
      "None \n",
      "\n",
      "              value\n",
      "count  1.422788e+06\n",
      "mean   1.015690e+03\n",
      "std    1.011063e+01\n",
      "min    9.856200e+02\n",
      "25%    1.008670e+03\n",
      "50%    1.016970e+03\n",
      "75%    1.022570e+03\n",
      "max    1.039050e+03 \n",
      "\n"
     ]
    }
   ],
   "source": [
    "print (PBMP280.head(),'\\n')\n",
    "print (PBMP280.columns,'\\n')\n",
    "print (PBMP280.count(),'\\n')\n",
    "print (PBMP280.info(),'\\n')\n",
    "print (PBMP280.describe(),'\\n')"
   ]
  },
  {
   "cell_type": "code",
   "execution_count": 6,
   "metadata": {},
   "outputs": [
    {
     "name": "stdout",
     "output_type": "stream",
     "text": [
      "     sensor  value                  time\n",
      "0  T-BMP280  26.43  2017-12-22T10:52:59Z\n",
      "1  T-BMP280  26.43  2017-12-22T10:53:02Z\n",
      "2  T-BMP280  26.44  2017-12-22T10:53:05Z\n",
      "3  T-BMP280  26.44  2017-12-22T10:53:08Z\n",
      "4  T-BMP280  26.42  2017-12-22T10:53:11Z \n",
      "\n",
      "Index(['sensor', 'value', 'time'], dtype='object') \n",
      "\n",
      "sensor    1422795\n",
      "value     1422795\n",
      "time      1422795\n",
      "dtype: int64 \n",
      "\n",
      "<class 'pandas.core.frame.DataFrame'>\n",
      "RangeIndex: 1422795 entries, 0 to 1422794\n",
      "Data columns (total 3 columns):\n",
      "sensor    1422795 non-null object\n",
      "value     1422795 non-null float64\n",
      "time      1422795 non-null object\n",
      "dtypes: float64(1), object(2)\n",
      "memory usage: 32.6+ MB\n",
      "None \n",
      "\n",
      "              value\n",
      "count  1.422795e+06\n",
      "mean   2.224838e+01\n",
      "std    2.619527e+00\n",
      "min    1.568000e+01\n",
      "25%    2.096000e+01\n",
      "50%    2.253000e+01\n",
      "75%    2.408000e+01\n",
      "max    2.899000e+01 \n",
      "\n"
     ]
    }
   ],
   "source": [
    "print (TBMP280.head(),'\\n')\n",
    "print (TBMP280.columns,'\\n')\n",
    "print (TBMP280.count(),'\\n')\n",
    "print (TBMP280.info(),'\\n')\n",
    "print (TBMP280.describe(),'\\n')"
   ]
  },
  {
   "cell_type": "code",
   "execution_count": 7,
   "metadata": {},
   "outputs": [
    {
     "name": "stdout",
     "output_type": "stream",
     "text": [
      "    sensor  value                  time\n",
      "0  T-DHT11     27  2017-12-22T11:22:11Z\n",
      "1  T-DHT11     28  2017-12-22T11:22:16Z\n",
      "2  T-DHT11     28  2017-12-22T11:22:20Z\n",
      "3  T-DHT11     28  2017-12-22T11:22:24Z\n",
      "4  T-DHT11     28  2017-12-22T11:22:28Z \n",
      "\n",
      "Index(['sensor', 'value', 'time'], dtype='object') \n",
      "\n",
      "sensor    1420308\n",
      "value     1420308\n",
      "time      1420308\n",
      "dtype: int64 \n",
      "\n",
      "<class 'pandas.core.frame.DataFrame'>\n",
      "RangeIndex: 1420308 entries, 0 to 1420307\n",
      "Data columns (total 3 columns):\n",
      "sensor    1420308 non-null object\n",
      "value     1420308 non-null int64\n",
      "time      1420308 non-null object\n",
      "dtypes: int64(1), object(2)\n",
      "memory usage: 32.5+ MB\n",
      "None \n",
      "\n",
      "              value\n",
      "count  1.420308e+06\n",
      "mean   2.124776e+01\n",
      "std    2.492706e+00\n",
      "min    1.500000e+01\n",
      "25%    2.000000e+01\n",
      "50%    2.200000e+01\n",
      "75%    2.300000e+01\n",
      "max    2.900000e+01 \n",
      "\n"
     ]
    }
   ],
   "source": [
    "print (TDHT11.head(),'\\n')\n",
    "print (TDHT11.columns,'\\n')\n",
    "print (TDHT11.count(),'\\n')\n",
    "print (TDHT11.info(),'\\n')\n",
    "print (TDHT11.describe(),'\\n')"
   ]
  },
  {
   "cell_type": "code",
   "execution_count": 8,
   "metadata": {},
   "outputs": [
    {
     "name": "stdout",
     "output_type": "stream",
     "text": [
      "    sensor  value                  time\n",
      "0  T-DHT22   25.5  2017-12-19T14:07:18Z\n",
      "1  T-DHT22   25.5  2017-12-19T14:07:25Z\n",
      "2  T-DHT22   25.6  2017-12-19T14:07:32Z\n",
      "3  T-DHT22   25.6  2017-12-19T14:07:38Z\n",
      "4  T-DHT22   25.6  2017-12-19T14:07:45Z \n",
      "\n",
      "Index(['sensor', 'value', 'time'], dtype='object') \n",
      "\n",
      "sensor    1440150\n",
      "value     1440150\n",
      "time      1440150\n",
      "dtype: int64 \n",
      "\n",
      "<class 'pandas.core.frame.DataFrame'>\n",
      "RangeIndex: 1440150 entries, 0 to 1440149\n",
      "Data columns (total 3 columns):\n",
      "sensor    1440150 non-null object\n",
      "value     1440150 non-null float64\n",
      "time      1440150 non-null object\n",
      "dtypes: float64(1), object(2)\n",
      "memory usage: 33.0+ MB\n",
      "None \n",
      "\n",
      "              value\n",
      "count  1.440150e+06\n",
      "mean   2.299986e+01\n",
      "std    2.480804e+00\n",
      "min    1.670000e+01\n",
      "25%    2.170000e+01\n",
      "50%    2.330000e+01\n",
      "75%    2.480000e+01\n",
      "max    2.980000e+01 \n",
      "\n"
     ]
    }
   ],
   "source": [
    "print (TDHT22.head(),'\\n')\n",
    "print (TDHT22.columns,'\\n')\n",
    "print (TDHT22.count(),'\\n')\n",
    "print (TDHT22.info(),'\\n')\n",
    "print (TDHT22.describe(),'\\n')"
   ]
  },
  {
   "cell_type": "code",
   "execution_count": 9,
   "metadata": {},
   "outputs": [],
   "source": [
    "HDHT11 = []\n",
    "PDM280 = []\n",
    "TDM280 = []\n",
    "THTU21 = []\n",
    "\n",
    "with open(\"../data/raw/measures/H-DHT11-measures.json\") as f:\n",
    "     for line in f:\n",
    "        HDHT11.append(json.loads(line))\n",
    "\n",
    "with open(\"../data/raw/measures/P-DM280-measures.json\") as f:\n",
    "     for line in f:\n",
    "        PDM280.append(json.loads(line))\n",
    "\n",
    "with open(\"../data/raw/measures/T-DM280-measures.json\") as f:\n",
    "     for line in f:\n",
    "        TDM280.append(json.loads(line))\n",
    "\n",
    "with open(\"../data/raw/measures/T-HTU21-measures.json\") as f:\n",
    "     for line in f:\n",
    "        THTU21.append(json.loads(line))\n"
   ]
  },
  {
   "cell_type": "code",
   "execution_count": 10,
   "metadata": {
    "scrolled": true
   },
   "outputs": [],
   "source": [
    "HDHT11 = json_normalize(HDHT11)"
   ]
  },
  {
   "cell_type": "code",
   "execution_count": 11,
   "metadata": {},
   "outputs": [],
   "source": [
    "PDM280 = json_normalize(PDM280)"
   ]
  },
  {
   "cell_type": "code",
   "execution_count": 12,
   "metadata": {},
   "outputs": [],
   "source": [
    "TDM280 = json_normalize(TDM280)"
   ]
  },
  {
   "cell_type": "code",
   "execution_count": 13,
   "metadata": {},
   "outputs": [],
   "source": [
    "THTU21 = json_normalize(THTU21)"
   ]
  },
  {
   "cell_type": "code",
   "execution_count": 14,
   "metadata": {},
   "outputs": [
    {
     "name": "stdout",
     "output_type": "stream",
     "text": [
      "    sensor                  time    value\n",
      "0  P-DM280  2017-12-22T10:51:32Z  1040.00\n",
      "1  P-DM280  2017-12-22T10:51:35Z  1040.00\n",
      "2  P-DM280  2017-12-22T10:51:38Z  1039.97\n",
      "3  P-DM280  2017-12-22T10:51:41Z  1039.95 \n",
      "\n",
      "Index(['sensor', 'time', 'value'], dtype='object') \n",
      "\n",
      "sensor    4\n",
      "time      4\n",
      "value     4\n",
      "dtype: int64 \n",
      "\n",
      "<class 'pandas.core.frame.DataFrame'>\n",
      "RangeIndex: 4 entries, 0 to 3\n",
      "Data columns (total 3 columns):\n",
      "sensor    4 non-null object\n",
      "time      4 non-null object\n",
      "value     4 non-null float64\n",
      "dtypes: float64(1), object(2)\n",
      "memory usage: 176.0+ bytes\n",
      "None \n",
      "\n",
      "             value\n",
      "count     4.000000\n",
      "mean   1039.980000\n",
      "std       0.024495\n",
      "min    1039.950000\n",
      "25%    1039.965000\n",
      "50%    1039.985000\n",
      "75%    1040.000000\n",
      "max    1040.000000 \n",
      "\n"
     ]
    }
   ],
   "source": [
    "print (PDM280.head(),'\\n')\n",
    "print (PDM280.columns,'\\n')\n",
    "print (PDM280.count(),'\\n')\n",
    "print (PDM280.info(),'\\n')\n",
    "print (PDM280.describe(),'\\n')"
   ]
  },
  {
   "cell_type": "code",
   "execution_count": 15,
   "metadata": {},
   "outputs": [
    {
     "name": "stdout",
     "output_type": "stream",
     "text": [
      "    sensor                  time  value\n",
      "0  H-DHT11  2017-12-22T11:22:11Z     31\n",
      "1  H-DHT11  2017-12-22T11:22:16Z     31\n",
      "2  H-DHT11  2017-12-22T11:22:20Z     31\n",
      "3  H-DHT11  2017-12-22T11:22:24Z     31\n",
      "4  H-DHT11  2017-12-22T11:22:28Z     31 \n",
      "\n",
      "Index(['sensor', 'time', 'value'], dtype='object') \n",
      "\n",
      "sensor    1420302\n",
      "time      1420302\n",
      "value     1420302\n",
      "dtype: int64 \n",
      "\n",
      "<class 'pandas.core.frame.DataFrame'>\n",
      "RangeIndex: 1420302 entries, 0 to 1420301\n",
      "Data columns (total 3 columns):\n",
      "sensor    1420302 non-null object\n",
      "time      1420302 non-null object\n",
      "value     1420302 non-null int64\n",
      "dtypes: int64(1), object(2)\n",
      "memory usage: 32.5+ MB\n",
      "None \n",
      "\n",
      "              value\n",
      "count  1.420302e+06\n",
      "mean   3.500247e+01\n",
      "std    1.173970e+00\n",
      "min    3.100000e+01\n",
      "25%    3.400000e+01\n",
      "50%    3.500000e+01\n",
      "75%    3.600000e+01\n",
      "max    3.900000e+01 \n",
      "\n"
     ]
    }
   ],
   "source": [
    "print (HDHT11.head(),'\\n')\n",
    "print (HDHT11.columns,'\\n')\n",
    "print (HDHT11.count(),'\\n')\n",
    "print (HDHT11.info(),'\\n')\n",
    "print (HDHT11.describe(),'\\n')"
   ]
  },
  {
   "cell_type": "code",
   "execution_count": 16,
   "metadata": {},
   "outputs": [
    {
     "name": "stdout",
     "output_type": "stream",
     "text": [
      "    sensor                  time  value\n",
      "0  T-DM280  2017-12-22T10:51:31Z  26.43\n",
      "1  T-DM280  2017-12-22T10:51:35Z  26.43\n",
      "2  T-DM280  2017-12-22T10:51:38Z  26.45\n",
      "3  T-DM280  2017-12-22T10:51:41Z  26.45 \n",
      "\n",
      "Index(['sensor', 'time', 'value'], dtype='object') \n",
      "\n",
      "sensor    4\n",
      "time      4\n",
      "value     4\n",
      "dtype: int64 \n",
      "\n",
      "<class 'pandas.core.frame.DataFrame'>\n",
      "RangeIndex: 4 entries, 0 to 3\n",
      "Data columns (total 3 columns):\n",
      "sensor    4 non-null object\n",
      "time      4 non-null object\n",
      "value     4 non-null float64\n",
      "dtypes: float64(1), object(2)\n",
      "memory usage: 176.0+ bytes\n",
      "None \n",
      "\n",
      "           value\n",
      "count   4.000000\n",
      "mean   26.440000\n",
      "std     0.011547\n",
      "min    26.430000\n",
      "25%    26.430000\n",
      "50%    26.440000\n",
      "75%    26.450000\n",
      "max    26.450000 \n",
      "\n"
     ]
    }
   ],
   "source": [
    "print (TDM280.head(),'\\n')\n",
    "print (TDM280.columns,'\\n')\n",
    "print (TDM280.count(),'\\n')\n",
    "print (TDM280.info(),'\\n')\n",
    "print (TDM280.describe(),'\\n')"
   ]
  },
  {
   "cell_type": "code",
   "execution_count": 17,
   "metadata": {},
   "outputs": [
    {
     "name": "stdout",
     "output_type": "stream",
     "text": [
      "    sensor                  time  value\n",
      "0  T-HTU21  2017-12-20T12:17:05Z  25.09\n",
      "1  T-HTU21  2017-12-20T12:17:07Z  25.09\n",
      "2  T-HTU21  2017-12-20T12:17:09Z  25.09\n",
      "3  T-HTU21  2017-12-20T12:17:11Z  25.09\n",
      "4  T-HTU21  2017-12-20T12:17:13Z  25.08 \n",
      "\n",
      "Index(['sensor', 'time', 'value'], dtype='object') \n",
      "\n",
      "sensor    1428383\n",
      "time      1428383\n",
      "value     1428383\n",
      "dtype: int64 \n",
      "\n",
      "<class 'pandas.core.frame.DataFrame'>\n",
      "RangeIndex: 1428383 entries, 0 to 1428382\n",
      "Data columns (total 3 columns):\n",
      "sensor    1428383 non-null object\n",
      "time      1428383 non-null object\n",
      "value     1428383 non-null float64\n",
      "dtypes: float64(1), object(2)\n",
      "memory usage: 32.7+ MB\n",
      "None \n",
      "\n",
      "              value\n",
      "count  1.428383e+06\n",
      "mean   2.153985e+01\n",
      "std    2.573268e+00\n",
      "min    1.508000e+01\n",
      "25%    2.026000e+01\n",
      "50%    2.181000e+01\n",
      "75%    2.334000e+01\n",
      "max    2.821000e+01 \n",
      "\n"
     ]
    }
   ],
   "source": [
    "print (THTU21.head(),'\\n')\n",
    "print (THTU21.columns,'\\n')\n",
    "print (THTU21.count(),'\\n')\n",
    "print (THTU21.info(),'\\n')\n",
    "print (THTU21.describe(),'\\n')"
   ]
  },
  {
   "cell_type": "markdown",
   "metadata": {},
   "source": [
    "We see that the value columns of all the JSON files are diferent to the CSV files, so we correct them."
   ]
  },
  {
   "cell_type": "code",
   "execution_count": 18,
   "metadata": {
    "scrolled": true
   },
   "outputs": [
    {
     "data": {
      "text/html": [
       "<div>\n",
       "<style scoped>\n",
       "    .dataframe tbody tr th:only-of-type {\n",
       "        vertical-align: middle;\n",
       "    }\n",
       "\n",
       "    .dataframe tbody tr th {\n",
       "        vertical-align: top;\n",
       "    }\n",
       "\n",
       "    .dataframe thead th {\n",
       "        text-align: right;\n",
       "    }\n",
       "</style>\n",
       "<table border=\"1\" class=\"dataframe\">\n",
       "  <thead>\n",
       "    <tr style=\"text-align: right;\">\n",
       "      <th></th>\n",
       "      <th>sensor</th>\n",
       "      <th>value</th>\n",
       "      <th>time</th>\n",
       "    </tr>\n",
       "  </thead>\n",
       "  <tbody>\n",
       "    <tr>\n",
       "      <th>0</th>\n",
       "      <td>P-DM280</td>\n",
       "      <td>1040.00</td>\n",
       "      <td>2017-12-22T10:51:32Z</td>\n",
       "    </tr>\n",
       "    <tr>\n",
       "      <th>1</th>\n",
       "      <td>P-DM280</td>\n",
       "      <td>1040.00</td>\n",
       "      <td>2017-12-22T10:51:35Z</td>\n",
       "    </tr>\n",
       "    <tr>\n",
       "      <th>2</th>\n",
       "      <td>P-DM280</td>\n",
       "      <td>1039.97</td>\n",
       "      <td>2017-12-22T10:51:38Z</td>\n",
       "    </tr>\n",
       "    <tr>\n",
       "      <th>3</th>\n",
       "      <td>P-DM280</td>\n",
       "      <td>1039.95</td>\n",
       "      <td>2017-12-22T10:51:41Z</td>\n",
       "    </tr>\n",
       "  </tbody>\n",
       "</table>\n",
       "</div>"
      ],
      "text/plain": [
       "    sensor    value                  time\n",
       "0  P-DM280  1040.00  2017-12-22T10:51:32Z\n",
       "1  P-DM280  1040.00  2017-12-22T10:51:35Z\n",
       "2  P-DM280  1039.97  2017-12-22T10:51:38Z\n",
       "3  P-DM280  1039.95  2017-12-22T10:51:41Z"
      ]
     },
     "execution_count": 18,
     "metadata": {},
     "output_type": "execute_result"
    }
   ],
   "source": [
    "PDM280 = PDM280[['sensor','value','time']]\n",
    "PDM280.head()"
   ]
  },
  {
   "cell_type": "code",
   "execution_count": 19,
   "metadata": {},
   "outputs": [
    {
     "data": {
      "text/html": [
       "<div>\n",
       "<style scoped>\n",
       "    .dataframe tbody tr th:only-of-type {\n",
       "        vertical-align: middle;\n",
       "    }\n",
       "\n",
       "    .dataframe tbody tr th {\n",
       "        vertical-align: top;\n",
       "    }\n",
       "\n",
       "    .dataframe thead th {\n",
       "        text-align: right;\n",
       "    }\n",
       "</style>\n",
       "<table border=\"1\" class=\"dataframe\">\n",
       "  <thead>\n",
       "    <tr style=\"text-align: right;\">\n",
       "      <th></th>\n",
       "      <th>sensor</th>\n",
       "      <th>value</th>\n",
       "      <th>time</th>\n",
       "    </tr>\n",
       "  </thead>\n",
       "  <tbody>\n",
       "    <tr>\n",
       "      <th>0</th>\n",
       "      <td>H-DHT11</td>\n",
       "      <td>31</td>\n",
       "      <td>2017-12-22T11:22:11Z</td>\n",
       "    </tr>\n",
       "    <tr>\n",
       "      <th>1</th>\n",
       "      <td>H-DHT11</td>\n",
       "      <td>31</td>\n",
       "      <td>2017-12-22T11:22:16Z</td>\n",
       "    </tr>\n",
       "    <tr>\n",
       "      <th>2</th>\n",
       "      <td>H-DHT11</td>\n",
       "      <td>31</td>\n",
       "      <td>2017-12-22T11:22:20Z</td>\n",
       "    </tr>\n",
       "    <tr>\n",
       "      <th>3</th>\n",
       "      <td>H-DHT11</td>\n",
       "      <td>31</td>\n",
       "      <td>2017-12-22T11:22:24Z</td>\n",
       "    </tr>\n",
       "    <tr>\n",
       "      <th>4</th>\n",
       "      <td>H-DHT11</td>\n",
       "      <td>31</td>\n",
       "      <td>2017-12-22T11:22:28Z</td>\n",
       "    </tr>\n",
       "  </tbody>\n",
       "</table>\n",
       "</div>"
      ],
      "text/plain": [
       "    sensor  value                  time\n",
       "0  H-DHT11     31  2017-12-22T11:22:11Z\n",
       "1  H-DHT11     31  2017-12-22T11:22:16Z\n",
       "2  H-DHT11     31  2017-12-22T11:22:20Z\n",
       "3  H-DHT11     31  2017-12-22T11:22:24Z\n",
       "4  H-DHT11     31  2017-12-22T11:22:28Z"
      ]
     },
     "execution_count": 19,
     "metadata": {},
     "output_type": "execute_result"
    }
   ],
   "source": [
    "HDHT11 = HDHT11[['sensor','value','time']]\n",
    "HDHT11.head()"
   ]
  },
  {
   "cell_type": "code",
   "execution_count": 20,
   "metadata": {},
   "outputs": [
    {
     "data": {
      "text/html": [
       "<div>\n",
       "<style scoped>\n",
       "    .dataframe tbody tr th:only-of-type {\n",
       "        vertical-align: middle;\n",
       "    }\n",
       "\n",
       "    .dataframe tbody tr th {\n",
       "        vertical-align: top;\n",
       "    }\n",
       "\n",
       "    .dataframe thead th {\n",
       "        text-align: right;\n",
       "    }\n",
       "</style>\n",
       "<table border=\"1\" class=\"dataframe\">\n",
       "  <thead>\n",
       "    <tr style=\"text-align: right;\">\n",
       "      <th></th>\n",
       "      <th>sensor</th>\n",
       "      <th>value</th>\n",
       "      <th>time</th>\n",
       "    </tr>\n",
       "  </thead>\n",
       "  <tbody>\n",
       "    <tr>\n",
       "      <th>0</th>\n",
       "      <td>T-DM280</td>\n",
       "      <td>26.43</td>\n",
       "      <td>2017-12-22T10:51:31Z</td>\n",
       "    </tr>\n",
       "    <tr>\n",
       "      <th>1</th>\n",
       "      <td>T-DM280</td>\n",
       "      <td>26.43</td>\n",
       "      <td>2017-12-22T10:51:35Z</td>\n",
       "    </tr>\n",
       "    <tr>\n",
       "      <th>2</th>\n",
       "      <td>T-DM280</td>\n",
       "      <td>26.45</td>\n",
       "      <td>2017-12-22T10:51:38Z</td>\n",
       "    </tr>\n",
       "    <tr>\n",
       "      <th>3</th>\n",
       "      <td>T-DM280</td>\n",
       "      <td>26.45</td>\n",
       "      <td>2017-12-22T10:51:41Z</td>\n",
       "    </tr>\n",
       "  </tbody>\n",
       "</table>\n",
       "</div>"
      ],
      "text/plain": [
       "    sensor  value                  time\n",
       "0  T-DM280  26.43  2017-12-22T10:51:31Z\n",
       "1  T-DM280  26.43  2017-12-22T10:51:35Z\n",
       "2  T-DM280  26.45  2017-12-22T10:51:38Z\n",
       "3  T-DM280  26.45  2017-12-22T10:51:41Z"
      ]
     },
     "execution_count": 20,
     "metadata": {},
     "output_type": "execute_result"
    }
   ],
   "source": [
    "TDM280 = TDM280[['sensor','value','time']]\n",
    "TDM280.head()"
   ]
  },
  {
   "cell_type": "code",
   "execution_count": 21,
   "metadata": {},
   "outputs": [
    {
     "data": {
      "text/html": [
       "<div>\n",
       "<style scoped>\n",
       "    .dataframe tbody tr th:only-of-type {\n",
       "        vertical-align: middle;\n",
       "    }\n",
       "\n",
       "    .dataframe tbody tr th {\n",
       "        vertical-align: top;\n",
       "    }\n",
       "\n",
       "    .dataframe thead th {\n",
       "        text-align: right;\n",
       "    }\n",
       "</style>\n",
       "<table border=\"1\" class=\"dataframe\">\n",
       "  <thead>\n",
       "    <tr style=\"text-align: right;\">\n",
       "      <th></th>\n",
       "      <th>sensor</th>\n",
       "      <th>value</th>\n",
       "      <th>time</th>\n",
       "    </tr>\n",
       "  </thead>\n",
       "  <tbody>\n",
       "    <tr>\n",
       "      <th>0</th>\n",
       "      <td>T-DM280</td>\n",
       "      <td>26.43</td>\n",
       "      <td>2017-12-22T10:51:31Z</td>\n",
       "    </tr>\n",
       "    <tr>\n",
       "      <th>1</th>\n",
       "      <td>T-DM280</td>\n",
       "      <td>26.43</td>\n",
       "      <td>2017-12-22T10:51:35Z</td>\n",
       "    </tr>\n",
       "    <tr>\n",
       "      <th>2</th>\n",
       "      <td>T-DM280</td>\n",
       "      <td>26.45</td>\n",
       "      <td>2017-12-22T10:51:38Z</td>\n",
       "    </tr>\n",
       "    <tr>\n",
       "      <th>3</th>\n",
       "      <td>T-DM280</td>\n",
       "      <td>26.45</td>\n",
       "      <td>2017-12-22T10:51:41Z</td>\n",
       "    </tr>\n",
       "  </tbody>\n",
       "</table>\n",
       "</div>"
      ],
      "text/plain": [
       "    sensor  value                  time\n",
       "0  T-DM280  26.43  2017-12-22T10:51:31Z\n",
       "1  T-DM280  26.43  2017-12-22T10:51:35Z\n",
       "2  T-DM280  26.45  2017-12-22T10:51:38Z\n",
       "3  T-DM280  26.45  2017-12-22T10:51:41Z"
      ]
     },
     "execution_count": 21,
     "metadata": {},
     "output_type": "execute_result"
    }
   ],
   "source": [
    "TDM280 = TDM280[['sensor','value','time']]\n",
    "TDM280.head()"
   ]
  },
  {
   "cell_type": "code",
   "execution_count": null,
   "metadata": {},
   "outputs": [],
   "source": []
  }
 ],
 "metadata": {
  "kernelspec": {
   "display_name": "Python 3",
   "language": "python",
   "name": "python3"
  },
  "language_info": {
   "codemirror_mode": {
    "name": "ipython",
    "version": 3
   },
   "file_extension": ".py",
   "mimetype": "text/x-python",
   "name": "python",
   "nbconvert_exporter": "python",
   "pygments_lexer": "ipython3",
   "version": "3.7.1"
  }
 },
 "nbformat": 4,
 "nbformat_minor": 2
}
